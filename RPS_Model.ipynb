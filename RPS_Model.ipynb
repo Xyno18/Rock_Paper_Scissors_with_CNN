{
 "cells": [
  {
   "cell_type": "markdown",
   "metadata": {},
   "source": [
    "# Rock Paper Scissor"
   ]
  },
  {
   "cell_type": "markdown",
   "metadata": {},
   "source": [
    "## Importing libraries"
   ]
  },
  {
   "cell_type": "code",
   "execution_count": 1,
   "metadata": {},
   "outputs": [],
   "source": [
    "import tensorflow as tf\n",
    "import numpy as np\n",
    "import pandas as pd\n",
    "from keras.preprocessing.image import ImageDataGenerator"
   ]
  },
  {
   "cell_type": "code",
   "execution_count": 2,
   "metadata": {},
   "outputs": [],
   "source": [
    "btch = 32"
   ]
  },
  {
   "cell_type": "markdown",
   "metadata": {},
   "source": [
    "## Data Preprocessing"
   ]
  },
  {
   "cell_type": "markdown",
   "metadata": {},
   "source": [
    "### Training Data"
   ]
  },
  {
   "cell_type": "code",
   "execution_count": 3,
   "metadata": {},
   "outputs": [
    {
     "name": "stdout",
     "output_type": "stream",
     "text": [
      "Found 2520 images belonging to 3 classes.\n"
     ]
    }
   ],
   "source": [
    "train_datagen = ImageDataGenerator(\n",
    "        rescale=1./255,\n",
    "        rotation_range=20,\n",
    "        shear_range=0.2,\n",
    "        zoom_range=0.2,\n",
    "        fill_mode = 'wrap',\n",
    "        horizontal_flip=True)\n",
    "training_set = train_datagen.flow_from_directory(\n",
    "        'dataset/training_set',\n",
    "        target_size=(64, 96),\n",
    "        color_mode='grayscale',\n",
    "        batch_size=btch,\n",
    "        class_mode='categorical')"
   ]
  },
  {
   "cell_type": "markdown",
   "metadata": {},
   "source": [
    "### Test Data"
   ]
  },
  {
   "cell_type": "code",
   "execution_count": 4,
   "metadata": {},
   "outputs": [
    {
     "name": "stdout",
     "output_type": "stream",
     "text": [
      "Found 372 images belonging to 3 classes.\n"
     ]
    }
   ],
   "source": [
    "test_datagen = ImageDataGenerator(rescale=1./255)\n",
    "test_set = test_datagen.flow_from_directory(\n",
    "        'dataset/test_set',\n",
    "        target_size=(64, 96),\n",
    "        color_mode='grayscale',\n",
    "        batch_size=btch,\n",
    "        class_mode='categorical')"
   ]
  },
  {
   "cell_type": "markdown",
   "metadata": {},
   "source": [
    "## Building the CNN"
   ]
  },
  {
   "cell_type": "markdown",
   "metadata": {},
   "source": [
    "### Initialize the CNN"
   ]
  },
  {
   "cell_type": "code",
   "execution_count": 5,
   "metadata": {},
   "outputs": [],
   "source": [
    "cnn = tf.keras.models.Sequential()"
   ]
  },
  {
   "cell_type": "markdown",
   "metadata": {},
   "source": [
    "### Adding Hidden Layer 1"
   ]
  },
  {
   "cell_type": "code",
   "execution_count": 6,
   "metadata": {},
   "outputs": [],
   "source": [
    "cnn.add(tf.keras.layers.Conv2D(filters = 16, kernel_size = 3, activation = 'relu', input_shape = [64,96,1]))"
   ]
  },
  {
   "cell_type": "markdown",
   "metadata": {},
   "source": [
    "### Adding Max Pool Layer 1"
   ]
  },
  {
   "cell_type": "code",
   "execution_count": 7,
   "metadata": {},
   "outputs": [],
   "source": [
    "cnn.add(tf.keras.layers.MaxPool2D(pool_size = (2,2)))"
   ]
  },
  {
   "cell_type": "markdown",
   "metadata": {},
   "source": [
    "### Adding Hidden Layer 2"
   ]
  },
  {
   "cell_type": "code",
   "execution_count": 8,
   "metadata": {},
   "outputs": [],
   "source": [
    "cnn.add(tf.keras.layers.Conv2D(filters = 32, kernel_size = 3, activation = 'relu'))"
   ]
  },
  {
   "cell_type": "markdown",
   "metadata": {},
   "source": [
    "### Adding Max Pool Layer 2"
   ]
  },
  {
   "cell_type": "code",
   "execution_count": 9,
   "metadata": {},
   "outputs": [],
   "source": [
    "cnn.add(tf.keras.layers.MaxPool2D(pool_size = (2,2), strides = 2))"
   ]
  },
  {
   "cell_type": "markdown",
   "metadata": {},
   "source": [
    "### Hidden Layer 3 and Max Pool Layer 3"
   ]
  },
  {
   "cell_type": "code",
   "execution_count": 10,
   "metadata": {},
   "outputs": [],
   "source": [
    "cnn.add(tf.keras.layers.Conv2D(filters = 64, kernel_size = 3, activation = 'relu'))\n",
    "cnn.add(tf.keras.layers.MaxPool2D(pool_size = (2,2), strides = 2))"
   ]
  },
  {
   "cell_type": "markdown",
   "metadata": {},
   "source": [
    "### Flattening"
   ]
  },
  {
   "cell_type": "code",
   "execution_count": 11,
   "metadata": {},
   "outputs": [],
   "source": [
    "cnn.add(tf.keras.layers.Flatten())"
   ]
  },
  {
   "cell_type": "markdown",
   "metadata": {},
   "source": [
    "### Fully Connected Layer "
   ]
  },
  {
   "cell_type": "code",
   "execution_count": 12,
   "metadata": {},
   "outputs": [],
   "source": [
    "cnn.add(tf.keras.layers.Dense(units = 512, activation = 'relu'))"
   ]
  },
  {
   "cell_type": "markdown",
   "metadata": {},
   "source": [
    "### Output Layer"
   ]
  },
  {
   "cell_type": "code",
   "execution_count": 13,
   "metadata": {},
   "outputs": [],
   "source": [
    "cnn.add(tf.keras.layers.Dense(units = 3, activation = 'softmax'))"
   ]
  },
  {
   "cell_type": "code",
   "execution_count": 14,
   "metadata": {},
   "outputs": [
    {
     "name": "stdout",
     "output_type": "stream",
     "text": [
      "Model: \"sequential\"\n",
      "_________________________________________________________________\n",
      "Layer (type)                 Output Shape              Param #   \n",
      "=================================================================\n",
      "conv2d (Conv2D)              (None, 62, 94, 16)        160       \n",
      "_________________________________________________________________\n",
      "max_pooling2d (MaxPooling2D) (None, 31, 47, 16)        0         \n",
      "_________________________________________________________________\n",
      "conv2d_1 (Conv2D)            (None, 29, 45, 32)        4640      \n",
      "_________________________________________________________________\n",
      "max_pooling2d_1 (MaxPooling2 (None, 14, 22, 32)        0         \n",
      "_________________________________________________________________\n",
      "conv2d_2 (Conv2D)            (None, 12, 20, 64)        18496     \n",
      "_________________________________________________________________\n",
      "max_pooling2d_2 (MaxPooling2 (None, 6, 10, 64)         0         \n",
      "_________________________________________________________________\n",
      "flatten (Flatten)            (None, 3840)              0         \n",
      "_________________________________________________________________\n",
      "dense (Dense)                (None, 512)               1966592   \n",
      "_________________________________________________________________\n",
      "dense_1 (Dense)              (None, 3)                 1539      \n",
      "=================================================================\n",
      "Total params: 1,991,427\n",
      "Trainable params: 1,991,427\n",
      "Non-trainable params: 0\n",
      "_________________________________________________________________\n"
     ]
    }
   ],
   "source": [
    "cnn.summary()"
   ]
  },
  {
   "cell_type": "markdown",
   "metadata": {},
   "source": [
    "## Compiling the Neural Net"
   ]
  },
  {
   "cell_type": "code",
   "execution_count": 15,
   "metadata": {},
   "outputs": [],
   "source": [
    "cnn.compile(optimizer='adam', loss='categorical_crossentropy', metrics=['accuracy'])"
   ]
  },
  {
   "cell_type": "markdown",
   "metadata": {},
   "source": [
    "### Training the Neural Net"
   ]
  },
  {
   "cell_type": "code",
   "execution_count": 31,
   "metadata": {},
   "outputs": [
    {
     "name": "stdout",
     "output_type": "stream",
     "text": [
      "Epoch 1/35\n",
      "78/78 [==============================] - 11s 137ms/step - loss: 0.0045 - accuracy: 0.9980 - val_loss: 0.1040 - val_accuracy: 0.9597\n",
      "Epoch 2/35\n",
      "78/78 [==============================] - 11s 140ms/step - loss: 0.0039 - accuracy: 0.9984 - val_loss: 0.1852 - val_accuracy: 0.9355\n",
      "Epoch 3/35\n",
      "78/78 [==============================] - 11s 140ms/step - loss: 0.0013 - accuracy: 0.9996 - val_loss: 0.1372 - val_accuracy: 0.9462\n",
      "Epoch 4/35\n",
      "78/78 [==============================] - 12s 148ms/step - loss: 0.0114 - accuracy: 0.9976 - val_loss: 0.1430 - val_accuracy: 0.9489\n",
      "Epoch 5/35\n",
      "78/78 [==============================] - 12s 157ms/step - loss: 0.0194 - accuracy: 0.9924 - val_loss: 0.1066 - val_accuracy: 0.9516\n",
      "Epoch 6/35\n",
      "78/78 [==============================] - 14s 174ms/step - loss: 0.0169 - accuracy: 0.9936 - val_loss: 0.1018 - val_accuracy: 0.9677\n",
      "Epoch 7/35\n",
      "78/78 [==============================] - 12s 156ms/step - loss: 0.0214 - accuracy: 0.9924 - val_loss: 0.2725 - val_accuracy: 0.8602\n",
      "Epoch 8/35\n",
      "78/78 [==============================] - 12s 150ms/step - loss: 0.0097 - accuracy: 0.9972 - val_loss: 0.1503 - val_accuracy: 0.9597\n",
      "Epoch 9/35\n",
      "78/78 [==============================] - 13s 164ms/step - loss: 0.0056 - accuracy: 0.9984 - val_loss: 0.0547 - val_accuracy: 0.9785\n",
      "Epoch 10/35\n",
      "78/78 [==============================] - 12s 157ms/step - loss: 0.0019 - accuracy: 0.9996 - val_loss: 0.0446 - val_accuracy: 0.9839\n",
      "Epoch 11/35\n",
      "78/78 [==============================] - 12s 153ms/step - loss: 7.2637e-04 - accuracy: 1.0000 - val_loss: 0.0347 - val_accuracy: 0.9839\n",
      "Epoch 12/35\n",
      "78/78 [==============================] - 12s 157ms/step - loss: 5.1420e-04 - accuracy: 1.0000 - val_loss: 0.0694 - val_accuracy: 0.9758\n",
      "Epoch 13/35\n",
      "78/78 [==============================] - 13s 163ms/step - loss: 0.0032 - accuracy: 0.9988 - val_loss: 0.0593 - val_accuracy: 0.9919\n",
      "Epoch 14/35\n",
      "78/78 [==============================] - 13s 163ms/step - loss: 0.0120 - accuracy: 0.9956 - val_loss: 0.2906 - val_accuracy: 0.9194\n",
      "Epoch 15/35\n",
      "78/78 [==============================] - 13s 163ms/step - loss: 0.0078 - accuracy: 0.9972 - val_loss: 0.3583 - val_accuracy: 0.8387\n",
      "Epoch 16/35\n",
      "78/78 [==============================] - 12s 160ms/step - loss: 0.0116 - accuracy: 0.9972 - val_loss: 0.0744 - val_accuracy: 0.9570\n",
      "Epoch 17/35\n",
      "78/78 [==============================] - 12s 154ms/step - loss: 0.0023 - accuracy: 0.9992 - val_loss: 0.0169 - val_accuracy: 0.9946\n",
      "Epoch 18/35\n",
      "78/78 [==============================] - 12s 153ms/step - loss: 0.0038 - accuracy: 0.9988 - val_loss: 0.0231 - val_accuracy: 0.9919\n",
      "Epoch 19/35\n",
      "78/78 [==============================] - 12s 154ms/step - loss: 0.0017 - accuracy: 0.9992 - val_loss: 0.0342 - val_accuracy: 0.9892\n",
      "Epoch 20/35\n",
      "78/78 [==============================] - 12s 158ms/step - loss: 0.0262 - accuracy: 0.9928 - val_loss: 0.0726 - val_accuracy: 0.9785\n",
      "Epoch 21/35\n",
      "78/78 [==============================] - 12s 159ms/step - loss: 0.0063 - accuracy: 0.9972 - val_loss: 0.1447 - val_accuracy: 0.9489\n",
      "Epoch 22/35\n",
      "78/78 [==============================] - 12s 158ms/step - loss: 0.0050 - accuracy: 0.9988 - val_loss: 0.1294 - val_accuracy: 0.9570\n",
      "Epoch 23/35\n",
      "78/78 [==============================] - 13s 166ms/step - loss: 0.0036 - accuracy: 0.9992 - val_loss: 0.0056 - val_accuracy: 0.9973\n",
      "Epoch 24/35\n",
      "78/78 [==============================] - 13s 162ms/step - loss: 0.0096 - accuracy: 0.9976 - val_loss: 0.1670 - val_accuracy: 0.9570\n",
      "Epoch 25/35\n",
      "78/78 [==============================] - 13s 160ms/step - loss: 0.0115 - accuracy: 0.9960 - val_loss: 0.0517 - val_accuracy: 0.9785\n",
      "Epoch 26/35\n",
      "78/78 [==============================] - 12s 158ms/step - loss: 0.0017 - accuracy: 0.9996 - val_loss: 0.3149 - val_accuracy: 0.8548\n",
      "Epoch 27/35\n",
      "78/78 [==============================] - 12s 160ms/step - loss: 0.0038 - accuracy: 0.9984 - val_loss: 0.1615 - val_accuracy: 0.9435\n",
      "Epoch 28/35\n",
      "78/78 [==============================] - 13s 162ms/step - loss: 0.0069 - accuracy: 0.9980 - val_loss: 0.1042 - val_accuracy: 0.9731\n",
      "Epoch 29/35\n",
      "78/78 [==============================] - 12s 155ms/step - loss: 3.4515e-04 - accuracy: 1.0000 - val_loss: 0.0757 - val_accuracy: 0.9758\n",
      "Epoch 30/35\n",
      "78/78 [==============================] - 12s 155ms/step - loss: 0.0275 - accuracy: 0.9960 - val_loss: 0.0406 - val_accuracy: 0.9866\n",
      "Epoch 31/35\n",
      "78/78 [==============================] - 12s 153ms/step - loss: 0.0011 - accuracy: 1.0000 - val_loss: 0.0260 - val_accuracy: 0.9892\n",
      "Epoch 32/35\n",
      "78/78 [==============================] - 12s 155ms/step - loss: 0.0046 - accuracy: 0.9988 - val_loss: 0.1967 - val_accuracy: 0.8602\n",
      "Epoch 33/35\n",
      "78/78 [==============================] - 12s 154ms/step - loss: 0.0055 - accuracy: 0.9976 - val_loss: 0.0600 - val_accuracy: 0.9758\n",
      "Epoch 34/35\n",
      "78/78 [==============================] - 12s 156ms/step - loss: 7.2033e-04 - accuracy: 1.0000 - val_loss: 0.2413 - val_accuracy: 0.9382\n",
      "Epoch 35/35\n",
      "78/78 [==============================] - 12s 156ms/step - loss: 3.1668e-04 - accuracy: 1.0000 - val_loss: 0.0484 - val_accuracy: 0.9839\n"
     ]
    },
    {
     "data": {
      "text/plain": [
       "<tensorflow.python.keras.callbacks.History at 0x1fa166dd448>"
      ]
     },
     "execution_count": 31,
     "metadata": {},
     "output_type": "execute_result"
    }
   ],
   "source": [
    "cnn.fit(x = training_set, validation_data = test_set, steps_per_epoch = 78, epochs = 35, validation_steps = 372/32)"
   ]
  },
  {
   "cell_type": "markdown",
   "metadata": {},
   "source": [
    "### Evaluating Neural Net on Test set"
   ]
  },
  {
   "cell_type": "code",
   "execution_count": 17,
   "metadata": {},
   "outputs": [
    {
     "name": "stdout",
     "output_type": "stream",
     "text": [
      "20/20 [==============================] - 1s 72ms/step - loss: 0.1207 - accuracy: 0.9334\n",
      "\n",
      "Test accuracy:  0.9334415793418884\n"
     ]
    }
   ],
   "source": [
    "score = cnn.evaluate(test_set, batch_size = 8, steps = 20)\n",
    "print()\n",
    "print('Test accuracy: ', score[1])"
   ]
  },
  {
   "cell_type": "markdown",
   "metadata": {},
   "source": [
    "## Serialize model to JSON"
   ]
  },
  {
   "cell_type": "code",
   "execution_count": 36,
   "metadata": {},
   "outputs": [],
   "source": [
    "model_json = cnn.to_json()\n",
    "with open(\"model.json\", \"w\") as json_file:\n",
    "    json_file.write(model_json)"
   ]
  },
  {
   "cell_type": "markdown",
   "metadata": {},
   "source": [
    "## Serialize weights to HDF5"
   ]
  },
  {
   "cell_type": "code",
   "execution_count": 37,
   "metadata": {},
   "outputs": [
    {
     "name": "stdout",
     "output_type": "stream",
     "text": [
      "Saved model to disk\n"
     ]
    }
   ],
   "source": [
    "cnn.save_weights(\"model.h5\")\n",
    "print(\"Saved model to disk\")"
   ]
  },
  {
   "cell_type": "code",
   "execution_count": 35,
   "metadata": {},
   "outputs": [
    {
     "name": "stdout",
     "output_type": "stream",
     "text": [
      "2\n"
     ]
    },
    {
     "data": {
      "image/png": "[encoded data removed]",
      "text/plain": [
       "<Figure size 432x288 with 1 Axes>"
      ]
     },
     "metadata": {
      "needs_background": "light"
     },
     "output_type": "display_data"
    }
   ],
   "source": [
    "import numpy as np\n",
    "from keras.preprocessing import image\n",
    "import matplotlib.pyplot as plt\n",
    "test_image = image.load_img('dataset/validation/scissors1.png',color_mode='grayscale' ,target_size = (64, 96))\n",
    "plt.imshow(test_image)\n",
    "test_image = image.img_to_array(test_image)\n",
    "test_image = np.expand_dims(test_image, axis = 0)\n",
    "result = cnn.predict(test_image)\n",
    "num = result.argmax()\n",
    "if num == 0:\n",
    "    prediction='paper'\n",
    "elif num==1:\n",
    "    prediction='rock'\n",
    "else:\n",
    "    prediction='scissor'\n",
    "print(num)"
   ]
  },
  {
   "cell_type": "code",
   "execution_count": 26,
   "metadata": {},
   "outputs": [
    {
     "data": {
      "text/plain": [
       "{'paper': 0, 'rock': 1, 'scissors': 2}"
      ]
     },
     "execution_count": 26,
     "metadata": {},
     "output_type": "execute_result"
    }
   ],
   "source": [
    "test_set.class_indices"
   ]
  },
  {
   "cell_type": "code",
   "execution_count": null,
   "metadata": {},
   "outputs": [],
   "source": []
  }
 ],
 "metadata": {
  "kernelspec": {
   "display_name": "Python 3",
   "language": "python",
   "name": "python3"
  },
  "language_info": {
   "codemirror_mode": {
    "name": "ipython",
    "version": 3
   },
   "file_extension": ".py",
   "mimetype": "text/x-python",
   "name": "python",
   "nbconvert_exporter": "python",
   "pygments_lexer": "ipython3",
   "version": "3.7.6"
  }
 },
 "nbformat": 4,
 "nbformat_minor": 4
}
